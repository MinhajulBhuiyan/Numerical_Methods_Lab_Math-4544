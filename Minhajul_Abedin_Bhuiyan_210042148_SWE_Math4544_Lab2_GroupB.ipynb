{
  "nbformat": 4,
  "nbformat_minor": 0,
  "metadata": {
    "colab": {
      "provenance": []
    },
    "kernelspec": {
      "name": "python3",
      "display_name": "Python 3"
    },
    "language_info": {
      "name": "python"
    }
  },
  "cells": [
    {
      "cell_type": "markdown",
      "metadata": {
        "id": "SChhcgB_Tkv9"
      },
      "source": [
        "# **Lab 2 : Direct method of Interpolation**<br>\n",
        "\n",
        "Interpolation is the process of estimating unknown data that lies within the range of some known data. The simplest interpolation is the **Direct method of Interpolation**. In order to interpolate unknown data, one needs to define a model that would fit the known data and based on that model, one would obtain the unknown data. This model would basically be a function that tries to satisfy the known data points. There can be various types of functions that may satisfy the same given data points, but for interpolation, we usually choose **polynomials** as interpolating functions due to the fact that polynomials are very easy to evaluate, differentiate and integrate.\n",
        "\n",
        "In today's lab, we will be implementing the Direct method of Interpolation in python. To test our implementation, we will be using the same data that we used during our class lectures. Run the following cell to load the known data points:\n"
      ]
    },
    {
      "cell_type": "code",
      "metadata": {
        "id": "rZ4tGQSjTvYF"
      },
      "source": [
        "t = [0, 10, 15, 20, 22.5, 30]\n",
        "v = [0, 227.04, 362.78, 517.35, 602.97, 901.67]"
      ],
      "execution_count": null,
      "outputs": []
    },
    {
      "cell_type": "markdown",
      "metadata": {
        "id": "3sOLCbqJT7q0"
      },
      "source": [
        "##Task 1\n",
        "Design a utility function that will be called in the `DirectInterpolation` function. The purpose of this function will be to find the $n+1$ closest points to the unknown value $t_{new}$ where we want to interpolate the data, where $n$ is the order of the interpolating polynomial. Understand that the nearest points should be selected such that they bracket the $t_{new}$. The function to be implemented is as follows:"
      ]
    },
    {
      "cell_type": "code",
      "metadata": {
        "id": "f6HGUB7nT9k9"
      },
      "source": [
        "def NearestPoints(t, v, n, t_new):\n",
        "\n",
        "    # making touple\n",
        "    points = sorted(zip(t, v), key=lambda x: x[0])\n",
        "\n",
        "    sorted_t = [point[0] for point in points]\n",
        "\n",
        "    closest_index = min(range(len(sorted_t)), key=lambda i: abs(sorted_t[i] - t_new))\n",
        "\n",
        "    left = max(0, closest_index - n // 2)\n",
        "    right = min(len(sorted_t), left + n + 1)\n",
        "\n",
        "    if right - left < n + 1:\n",
        "        if left == 0:\n",
        "            right = min(len(sorted_t), n + 1)\n",
        "        elif right == len(sorted_t):\n",
        "            left = max(0, len(sorted_t) - n - 1)\n",
        "\n",
        "    nearest_points = points[left:right]\n",
        "\n",
        "    nearest_t = [point[0] for point in nearest_points]\n",
        "    nearest_v = [point[1] for point in nearest_points]\n",
        "\n",
        "    return nearest_t, nearest_v\n"
      ],
      "execution_count": null,
      "outputs": []
    },
    {
      "cell_type": "markdown",
      "source": [
        "The above function is supposed to return two vectors, say `t_nearest` and `v_nearest` consisting of $n+1$ elements each. For testing how the function works, we can print the data and see what we are getting. If our implementation is correct, then we should be getting $[15], [362.78]$ for $n=0$. Run the following cell to check this:"
      ],
      "metadata": {
        "id": "w25YRkvd9XEh"
      }
    },
    {
      "cell_type": "code",
      "source": [
        "n = 0\n",
        "t_new = 16\n",
        "\n",
        "t_nearest, v_nearest = NearestPoints(t, v, n, t_new)\n",
        "print(t_nearest)\n",
        "print(v_nearest)"
      ],
      "metadata": {
        "id": "FSo0cJ1TkmRN",
        "colab": {
          "base_uri": "https://localhost:8080/"
        },
        "outputId": "dba3114d-4a04-4e2b-9ba1-bebd9406aba6"
      },
      "execution_count": null,
      "outputs": [
        {
          "output_type": "stream",
          "name": "stdout",
          "text": [
            "[15]\n",
            "[362.78]\n"
          ]
        }
      ]
    },
    {
      "cell_type": "code",
      "source": [
        "n = 1\n",
        "t_new = 16\n",
        "\n",
        "t_nearest, v_nearest = NearestPoints(t, v, n, t_new)\n",
        "print(t_nearest)\n",
        "print(v_nearest)"
      ],
      "metadata": {
        "id": "z5SN6pQj9Z7Q",
        "colab": {
          "base_uri": "https://localhost:8080/"
        },
        "outputId": "399c8c15-e523-4f82-e567-3506e3c54389"
      },
      "execution_count": null,
      "outputs": [
        {
          "output_type": "stream",
          "name": "stdout",
          "text": [
            "[15, 20]\n",
            "[362.78, 517.35]\n"
          ]
        }
      ]
    },
    {
      "cell_type": "markdown",
      "source": [
        "The output for $n=1$ should be $[15, 20], [362.78, 517.35]$"
      ],
      "metadata": {
        "id": "JdaIx97ljwYk"
      }
    },
    {
      "cell_type": "code",
      "source": [
        "n = 2\n",
        "t_new = 16\n",
        "\n",
        "t_nearest, v_nearest = NearestPoints(t, v, n, t_new)\n",
        "print(t_nearest)\n",
        "print(v_nearest)"
      ],
      "metadata": {
        "id": "hOb4TMsTkBjs",
        "colab": {
          "base_uri": "https://localhost:8080/"
        },
        "outputId": "adc77137-aff2-412e-9226-b65cd5f732ba"
      },
      "execution_count": null,
      "outputs": [
        {
          "output_type": "stream",
          "name": "stdout",
          "text": [
            "[10, 15, 20]\n",
            "[227.04, 362.78, 517.35]\n"
          ]
        }
      ]
    },
    {
      "cell_type": "markdown",
      "source": [
        "The output for $n=2$ should be $[15, 20, 10], [362.78, 517.35, 227.04]$"
      ],
      "metadata": {
        "id": "KzFR4QO8kFRn"
      }
    },
    {
      "cell_type": "markdown",
      "metadata": {
        "id": "Z6sc0ZNUUGNk"
      },
      "source": [
        "## Task 2\n",
        "Now your task is to design a generalized function that takes the given data as parameters as well as the order $n$ of the polynomial and uses the *Direct Interpolation* method to interpolate the unknown data at $t_{new}$. The following cell contains the function to be implemented:"
      ]
    },
    {
      "cell_type": "code",
      "metadata": {
        "id": "zHadfasm8dUF"
      },
      "source": [
        "import numpy as np\n",
        "\n",
        "def DirectInterpolation(t, v, n, t_new):\n",
        "    nearest_t, nearest_v = NearestPoints(t, v, n, t_new)\n",
        "\n",
        "    A = np.vander(nearest_t, increasing=True)\n",
        "\n",
        "    coeffs = np.linalg.solve(A, nearest_v)\n",
        "\n",
        "    def f(t):\n",
        "        result = 0\n",
        "\n",
        "        for i, c in enumerate(coeffs):\n",
        "            term = c * (t ** i)\n",
        "\n",
        "            result += term\n",
        "\n",
        "        return result\n",
        "\n",
        "    return f\n",
        "\n",
        "def eval(f, t_new):\n",
        "    return f(t_new)\n"
      ],
      "execution_count": null,
      "outputs": []
    },
    {
      "cell_type": "markdown",
      "metadata": {
        "id": "t1yWM5V18cA2"
      },
      "source": [
        "Note that the above function will at first need to find a number of closest points to the unknown data $t_{new}$, and this number will vary depending on the order $n$ of the polynomial that we want to use as the interpolating function. So you will have to call the function you implemented in Task 1 inside this function."
      ]
    },
    {
      "cell_type": "code",
      "source": [
        "print(eval(DirectInterpolation(t, v, 1, 16),16))"
      ],
      "metadata": {
        "id": "91g2Q0pTm0Ds",
        "colab": {
          "base_uri": "https://localhost:8080/"
        },
        "outputId": "fa3fe962-e3e5-4657-a64e-e591c294429d"
      },
      "execution_count": null,
      "outputs": [
        {
          "output_type": "stream",
          "name": "stdout",
          "text": [
            "393.69399999999996\n"
          ]
        }
      ]
    },
    {
      "cell_type": "markdown",
      "source": [
        "For $n=1$, we should get $v(16) = 393.7ms^{-1}$."
      ],
      "metadata": {
        "id": "kb6DPOAmnIq7"
      }
    },
    {
      "cell_type": "code",
      "source": [
        "print(eval(DirectInterpolation(t, v, 2, 16),16))"
      ],
      "metadata": {
        "id": "dqVSikEhnERc",
        "colab": {
          "base_uri": "https://localhost:8080/"
        },
        "outputId": "302660f6-5d3a-4abf-8902-0e92d74e9765"
      },
      "execution_count": null,
      "outputs": [
        {
          "output_type": "stream",
          "name": "stdout",
          "text": [
            "392.1876\n"
          ]
        }
      ]
    },
    {
      "cell_type": "markdown",
      "source": [
        "For $n=2$, we should get $v(16) = 392.19ms^{-1}$."
      ],
      "metadata": {
        "id": "4eCg93mknX20"
      }
    },
    {
      "cell_type": "code",
      "source": [
        "print(eval(DirectInterpolation(t, v, 3, 16),16))"
      ],
      "metadata": {
        "id": "eabSBX2WnEsS",
        "colab": {
          "base_uri": "https://localhost:8080/"
        },
        "outputId": "00762921-80e0-4841-f42e-a367b695983a"
      },
      "execution_count": null,
      "outputs": [
        {
          "output_type": "stream",
          "name": "stdout",
          "text": [
            "392.057168\n"
          ]
        }
      ]
    },
    {
      "cell_type": "markdown",
      "source": [
        "For $n=3$, we should get $v(16) = 392.06ms^{-1}$."
      ],
      "metadata": {
        "id": "GvFpwbNmnez_"
      }
    },
    {
      "cell_type": "markdown",
      "metadata": {
        "id": "rcyU1bzM9u3g"
      },
      "source": [
        "##Task 3\n",
        "Now, test the function using different order of polynomials, setting $n = 1, 2,$ and $3$ and so on and print the absolute relative approximate error at each step. Also generate a plot of Order $(n)$ vs Relative Approximate Error $(|\\epsilon_a|\\%)$. In case you do not remember how graphs can be plotted in Python, here is a sample code showing how to do it using the `matplotlib` library."
      ]
    },
    {
      "cell_type": "code",
      "source": [
        "import numpy as np\n",
        "\n",
        "t = [0, 10, 15, 20, 22.5, 30]\n",
        "v = [0, 227.04, 362.78, 517.35, 602.97, 901.67]\n",
        "t_new = 16\n",
        "true_value = 362.78\n",
        "\n",
        "def DirectInterpolation(t, v, n, t_new):\n",
        "    points = sorted(zip(t, v), key=lambda x: x[0])\n",
        "    sorted_t = [point[0] for point in points]\n",
        "\n",
        "    closest_index = min(range(len(sorted_t)), key=lambda i: abs(sorted_t[i] - t_new))\n",
        "\n",
        "    left = max(0, closest_index - n // 2)\n",
        "    right = min(len(sorted_t), left + n + 1)\n",
        "\n",
        "    if right - left < n + 1:\n",
        "        if left == 0:\n",
        "            right = min(len(sorted_t), n + 1)\n",
        "        elif right == len(sorted_t):\n",
        "            left = max(0, len(sorted_t) - n - 1)\n",
        "\n",
        "    nearest_points = points[left:right]\n",
        "    nearest_t = [point[0] for point in nearest_points]\n",
        "    nearest_v = [point[1] for point in nearest_points]\n",
        "\n",
        "    return nearest_t, nearest_v\n",
        "\n",
        "\n",
        "orders = []\n",
        "relative_errors = []\n",
        "\n",
        "for n in range(1, 5):\n",
        "    nearest_t, nearest_v = DirectInterpolation(t, v, n, t_new)\n",
        "\n",
        "    A = np.vander(nearest_t, increasing=True)\n",
        "\n",
        "    coeffs = np.linalg.solve(A, nearest_v)\n",
        "\n",
        "    def polynomial_function(t):\n",
        "        return sum(c * t**i for i, c in enumerate(coeffs))\n",
        "\n",
        "    interpolated_value = polynomial_function(t_new)\n",
        "    absolute_relative_error = abs((interpolated_value - true_value) / true_value) * 100  # in percentage\n",
        "\n",
        "    orders.append(n)\n",
        "    relative_errors.append(absolute_relative_error)\n",
        "\n",
        "    # Print the results\n",
        "    print(f\"Order n={n}: Interpolated Value = {interpolated_value:.4f}, Absolute Relative Error = |ϵa| = {absolute_relative_error:.4f}%\")\n"
      ],
      "metadata": {
        "id": "YDxTWEDA_PzH",
        "colab": {
          "base_uri": "https://localhost:8080/"
        },
        "outputId": "96d8bd53-ab85-47b1-9fd3-d121dc0b143e"
      },
      "execution_count": null,
      "outputs": [
        {
          "output_type": "stream",
          "name": "stdout",
          "text": [
            "Order n=1: Interpolated Value = 393.6940, Absolute Relative Error = |ϵa| = 8.5214%\n",
            "Order n=2: Interpolated Value = 392.1876, Absolute Relative Error = |ϵa| = 8.1062%\n",
            "Order n=3: Interpolated Value = 392.0572, Absolute Relative Error = |ϵa| = 8.0702%\n",
            "Order n=4: Interpolated Value = 392.0670, Absolute Relative Error = |ϵa| = 8.0729%\n"
          ]
        }
      ]
    },
    {
      "cell_type": "code",
      "metadata": {
        "id": "HcPhTbIu_sn4",
        "colab": {
          "base_uri": "https://localhost:8080/",
          "height": 616
        },
        "outputId": "1c6b7a1e-8508-4361-9357-2e5f8100be16"
      },
      "source": [
        "import numpy as np\n",
        "import matplotlib.pyplot as plt\n",
        "\n",
        "for n in range(1, 4):\n",
        "    interpolated_value = polynomial_function(t_new)\n",
        "    absolute_relative_error = abs((interpolated_value - true_value) / true_value) * 100  # Absolute relative approximate error\n",
        "    relative_errors.append(absolute_relative_error)\n",
        "    orders.append(n)\n",
        "\n",
        "    # Print the results\n",
        "    print(f\"Order n={n}, Estimated Value: {interpolated_value}, Absolute Relative Approximate Error: {absolute_relative_error:.4f}%\")\n",
        "\n",
        "# Plotting Order (n) vs Relative Approximate Error (|ϵa|%)\n",
        "\n",
        "plt.figure(figsize=(10, 6))\n",
        "plt.plot(orders, relative_errors, marker='o')\n",
        "plt.title(\"Order (n) vs Relative Approximate Error (|εa|%)\")\n",
        "plt.xlabel(\"Order (n)\")\n",
        "plt.ylabel(\"Relative Approximate Error (|εa|%)\")\n",
        "plt.xticks(orders)\n",
        "plt.grid()\n",
        "plt.show()"
      ],
      "execution_count": null,
      "outputs": [
        {
          "output_type": "stream",
          "name": "stdout",
          "text": [
            "Order n=1, Estimated Value: 392.0669994666666, Absolute Relative Approximate Error: 8.0729%\n",
            "Order n=2, Estimated Value: 392.0669994666666, Absolute Relative Approximate Error: 8.0729%\n",
            "Order n=3, Estimated Value: 392.0669994666666, Absolute Relative Approximate Error: 8.0729%\n"
          ]
        },
        {
          "output_type": "display_data",
          "data": {
            "text/plain": [
              "<Figure size 1000x600 with 1 Axes>"
            ],
            "image/png": "[encoded data removed]"
          },
          "metadata": {}
        }
      ]
    },
    {
      "cell_type": "markdown",
      "source": [
        "##Task 4\n",
        "Now, write a function for evaluating the acceleration at $t = 16$"
      ],
      "metadata": {
        "id": "TQaze05x-0B6"
      }
    },
    {
      "cell_type": "code",
      "source": [
        "def acceleration(f, t_new, h=1e-5):\n",
        "\n",
        "    return (f(t_new + h) - f(t_new - h)) / (2 * h)\n",
        "\n",
        "n = 3\n",
        "nearest_t, nearest_v = NearestPoints(t, v, n, t_new)\n",
        "A = np.vander(nearest_t, increasing=True)\n",
        "coeffs = np.linalg.solve(A, nearest_v)\n",
        "\n",
        "def polynomial_function(t):\n",
        "    return sum(c * t**i for i, c in enumerate(coeffs))\n",
        "\n",
        "# Calculate acceleration at t=16\n",
        "accel = acceleration(polynomial_function, t_new)\n",
        "print(f\"Acceleration at t={t_new}: {accel:.4f}\")\n"
      ],
      "metadata": {
        "id": "M3Vhtwnu-99O",
        "colab": {
          "base_uri": "https://localhost:8080/"
        },
        "outputId": "56abb18a-4408-4cbd-dd7a-85f996c3bc49"
      },
      "execution_count": null,
      "outputs": [
        {
          "output_type": "stream",
          "name": "stdout",
          "text": [
            "Acceleration at t=16: 29.6646\n"
          ]
        }
      ]
    }
  ]
}